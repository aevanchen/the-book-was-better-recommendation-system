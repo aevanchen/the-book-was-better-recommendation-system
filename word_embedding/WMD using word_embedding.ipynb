{
 "cells": [
  {
   "cell_type": "code",
   "execution_count": 6,
   "metadata": {},
   "outputs": [],
   "source": [
    "import os\n",
    "import numpy as np\n",
    "from sklearn.feature_extraction.text import CountVectorizer\n",
    "from sklearn.model_selection import train_test_split\n",
    "from sklearn.metrics import euclidean_distances\n",
    "from sklearn.externals.joblib import Parallel, delayed\n",
    "from sklearn.neighbors import KNeighborsClassifier\n",
    "from sklearn.utils import check_array\n",
    "\n",
    "from sklearn.preprocessing import normalize\n",
    "from pyemd import emd\n",
    "import gensim\n",
    "from gensim.models import KeyedVectors\n",
    "import json"
   ]
  },
  {
   "cell_type": "code",
   "execution_count": 7,
   "metadata": {},
   "outputs": [],
   "source": [
    "\n",
    "# model = gensim.models.KeyedVectors.load_word2vec_format('C:/Users/evannnn/word_embedding/GoogleNews-vectors-negative300.bin', binary=True)\n",
    "# print(\"model loaded\")\n",
    "\n",
    "def load_from_json(file_name):\n",
    "    with open(file_name, \"r\") as fp:\n",
    "            json_file=json.load(fp)\n",
    "    return json_file\n",
    "  "
   ]
  },
  {
   "cell_type": "code",
   "execution_count": 29,
   "metadata": {},
   "outputs": [],
   "source": [
    "# load processed movie and book summary data\n",
    "movie_id_to_summary=load_from_json(\"movie_summary_not_stemmed.json\")\n",
    "book_id_to_summary=load_from_json(\"book_summary_not_stemmed.json\")"
   ]
  },
  {
   "cell_type": "code",
   "execution_count": 9,
   "metadata": {},
   "outputs": [],
   "source": [
    "vocab=np.load(\"vocab.npy\")\n",
    "W=np.load(\"embeddings.npy\")"
   ]
  },
  {
   "cell_type": "code",
   "execution_count": 101,
   "metadata": {},
   "outputs": [],
   "source": [
    "W=np.array(W,dtype=np.double)"
   ]
  },
  {
   "cell_type": "code",
   "execution_count": 10,
   "metadata": {},
   "outputs": [],
   "source": [
    "vocab_dict={word:i for i,word in enumerate(vocab)}"
   ]
  },
  {
   "cell_type": "code",
   "execution_count": 12,
   "metadata": {},
   "outputs": [
    {
     "data": {
      "text/plain": [
       "1563"
      ]
     },
     "execution_count": 12,
     "metadata": {},
     "output_type": "execute_result"
    }
   ],
   "source": [
    "vocab_dict['word']"
   ]
  },
  {
   "cell_type": "code",
   "execution_count": 20,
   "metadata": {},
   "outputs": [
    {
     "name": "stdout",
     "output_type": "stream",
     "text": [
      "4317 2065\n"
     ]
    }
   ],
   "source": [
    "n_moview=len(moive_id_to_summary)\n",
    "n_books=len(book_id_to_summary)\n",
    "print(n_moview,n_books)"
   ]
  },
  {
   "cell_type": "code",
   "execution_count": 21,
   "metadata": {},
   "outputs": [],
   "source": [
    "sample_m=moive_id_to_summary['1']\n",
    "sample_b=book_id_to_summary['1']"
   ]
  },
  {
   "cell_type": "code",
   "execution_count": 23,
   "metadata": {},
   "outputs": [],
   "source": [
    "class WordMoversKNN(KNeighborsClassifier):\n",
    "    \"\"\"K nearest neighbors classifier using the Word Mover's Distance.\n",
    "\n",
    "    Parameters\n",
    "    ----------\n",
    "    \n",
    "    W_embed : array, shape: (vocab_size, embed_size)\n",
    "        Precomputed word embeddings between vocabulary items.\n",
    "        Row indices should correspond to the columns in the bag-of-words input.\n",
    "\n",
    "    n_neighbors : int, optional (default = 5)\n",
    "        Number of neighbors to use by default for :meth:`k_neighbors` queries.\n",
    "\n",
    "    n_jobs : int, optional (default = 1)\n",
    "        The number of parallel jobs to run for Word Mover's Distance computation.\n",
    "        If ``-1``, then the number of jobs is set to the number of CPU cores.\n",
    "    \n",
    "    verbose : int, optional\n",
    "        Controls the verbosity; the higher, the more messages. Defaults to 0.\n",
    "        \n",
    "    References\n",
    "    ----------\n",
    "    \n",
    "    Matt J. Kusner, Yu Sun, Nicholas I. Kolkin, Kilian Q. Weinberger\n",
    "    From Word Embeddings To Document Distances\n",
    "    The International Conference on Machine Learning (ICML), 2015\n",
    "    http://mkusner.github.io/publications/WMD.pdf\n",
    "    \n",
    "    \"\"\"\n",
    "    _pairwise = False\n",
    "\n",
    "    def __init__(self, W_embed, n_neighbors=5, n_jobs=4, verbose=False):\n",
    "        self.W_embed = W_embed\n",
    "        self.verbose = verbose\n",
    "        super(WordMoversKNN, self).__init__(n_neighbors=n_neighbors, n_jobs=n_jobs,\n",
    "                                            metric='precomputed', algorithm='brute')\n",
    "\n",
    "    def _wmd(self, i, row, X_train):\n",
    "        \"\"\"Compute the WMD between training sample i and given test row.\n",
    "        \n",
    "        Assumes that `row` and train samples are sparse BOW vectors summing to 1.\n",
    "        \"\"\"\n",
    "        union_idx = np.union1d(X_train[i].indices, row.indices)\n",
    "        W_minimal = self.W_embed[union_idx]\n",
    "        W_dist = euclidean_distances(W_minimal)\n",
    "        bow_i = X_train[i, union_idx].A.ravel()\n",
    "        bow_j = row[:, union_idx].A.ravel()\n",
    "        return emd(bow_i, bow_j, W_dist)\n",
    "    \n",
    "    def _wmd_row(self, row, X_train):\n",
    "        \"\"\"Wrapper to compute the WMD of a row with all training samples.\n",
    "        \n",
    "        Assumes that `row` and train samples are sparse BOW vectors summing to 1.\n",
    "        Useful for parallelization.\n",
    "        \"\"\"\n",
    "        n_samples_train = X_train.shape[0]\n",
    "        return [self._wmd(i, row, X_train) for i in range(n_samples_train)]\n",
    "\n",
    "    def _pairwise_wmd(self, X_test, X_train=None):\n",
    "        \"\"\"Computes the word mover's distance between all train and test points.\n",
    "        \n",
    "        Parallelized over rows of X_test.\n",
    "        \n",
    "        Assumes that train and test samples are sparse BOW vectors summing to 1.\n",
    "        \n",
    "        Parameters\n",
    "        ----------\n",
    "        X_test: scipy.sparse matrix, shape: (n_test_samples, vocab_size)\n",
    "            Test samples.\n",
    "        \n",
    "        X_train: scipy.sparse matrix, shape: (n_train_samples, vocab_size)\n",
    "            Training samples. If `None`, uses the samples the estimator was fit with.\n",
    "        \n",
    "        Returns\n",
    "        -------\n",
    "        dist : array, shape: (n_test_samples, n_train_samples)\n",
    "            Distances between all test samples and all train samples.\n",
    "        \n",
    "        \"\"\"\n",
    "        n_samples_test = X_test.shape[0]\n",
    "        \n",
    "        if X_train is None:\n",
    "            X_train = self._fit_X\n",
    "\n",
    "        dist = Parallel(n_jobs=self.n_jobs, verbose=self.verbose)(\n",
    "            delayed(self._wmd_row)(test_sample, X_train)\n",
    "            for test_sample in X_test)\n",
    "\n",
    "        return np.array(dist)"
   ]
  },
  {
   "cell_type": "code",
   "execution_count": 24,
   "metadata": {},
   "outputs": [],
   "source": [
    "WMD=WordMoversKNN(vocab)"
   ]
  },
  {
   "cell_type": "code",
   "execution_count": 40,
   "metadata": {},
   "outputs": [],
   "source": [
    "from functools import reduce #python 3\n"
   ]
  },
  {
   "cell_type": "code",
   "execution_count": 41,
   "metadata": {},
   "outputs": [
    {
     "data": {
      "text/plain": [
       "'milo boyd former nypd detective works bail enforcement agent milo ex wife nicole hurley investigative reporter arrested assaulting police officer nicole receives tip story working apparent suicide may actually murder skips bond hearing meet informant causing judge revoke bail issue warrant arrest unfortunately nicole arrives informant jimmy kidnapped milo ecstatic nicole bail bondsman sid offers job tracking nicole bringing jail bounty questioning nicole mother kitty milo apprehends race track new jersey throws car trunk drives back towards manhattan nicole manages escape briefly catches meanwhile neither aware stalked milo two thugs sent bookie named irene outstanding gambling debts nicole criminal earl mahler connected story investigating nicole lovestruck coworker stuart bent rescuing mahler catches tries kill nicole two narrowly escape milo interested explanations nicole admits found evidence implicates mutual friend bobby milo ex partner police force angry milo decides investigate crime clues earl car lead country club learn caddy earl owns tattoo parlor queens start make way bobby warns pair stay road coincidence nearest hotel cupid cabin bed breakfast spent honeymoon feelings admit made mistakes calls mother advice done comes bathroom overhears milo telling sid may may sleep nicole night taking jail nevertheless infuriated handcuffs milo bed makes way tattoo parlor finding jimmy freeing captured irene thugs still looking milo milo manages rescues strip club calls old friend police force learns bobby way police evidence warehouse relocated new building bobby confronts earl used friend used bobby name gain access warehouse steal large amount confiscated narcotics cash bobby decides arrest earl earl draws gun shoots though fatally milo nicole enter warehouse milo ambushed earl forced surrender nicole points shotgun bobby explains earl using well man supposedly committed suicide gain access warehouse proof bobby waiting earl make move arresting milo proudly notes earl might gotten away nicole picked certain clues nicole appear reconciled concede sometimes jobs come first way demonstrating milo turns nicole police make court hearing next day way precinct milo runs cop insulted earlier punches face arrested put cell next nicole reminds anniversary spend together matter bars admit love kiss'"
      ]
     },
     "execution_count": 41,
     "metadata": {},
     "output_type": "execute_result"
    }
   ],
   "source": [
    "\" \".join(reduce(lambda x,y: x+y,movie_id_to_summary['1']))"
   ]
  },
  {
   "cell_type": "code",
   "execution_count": 71,
   "metadata": {},
   "outputs": [
    {
     "data": {
      "text/plain": [
       "4317"
      ]
     },
     "execution_count": 71,
     "metadata": {},
     "output_type": "execute_result"
    }
   ],
   "source": [
    "movie_corpus=[]\n",
    "for idx in list(movie_id_to_summary.keys()):\n",
    "    try:\n",
    "        \n",
    "        movie_corpus.append(\" \".join(reduce(lambda x,y: x+y,movie_id_to_summary[idx])))\n",
    "    except:\n",
    "        \n",
    "        movie_corpus.append(\"\")\n",
    "\n",
    "\n",
    "len(movie_corpus)"
   ]
  },
  {
   "cell_type": "code",
   "execution_count": 75,
   "metadata": {},
   "outputs": [],
   "source": [
    "\n",
    "book_corpus= [\" \".join(reduce(lambda x,y: x+y,book_id_to_summary[idx]))  if book_id_to_summary[idx] is not None else \"\" for idx in list(book_id_to_summary.keys()) ]\n"
   ]
  },
  {
   "cell_type": "code",
   "execution_count": 125,
   "metadata": {},
   "outputs": [],
   "source": [
    "vect=CountVectorizer(stop_words=None,dtype=np.double).fit(movie_corpus + book_corpus)"
   ]
  },
  {
   "cell_type": "code",
   "execution_count": 126,
   "metadata": {},
   "outputs": [
    {
     "name": "stdout",
     "output_type": "stream",
     "text": [
      "9.0\n",
      "9.0\n"
     ]
    }
   ],
   "source": [
    "v_1 = vect.transform(sample_m[0])\n",
    "print(sum(v_1.toarray().ravel()))\n",
    "\n",
    "v_2 = vect.transform(sample_b[0])\n",
    "print(sum(v_2.toarray().ravel()))"
   ]
  },
  {
   "cell_type": "code",
   "execution_count": null,
   "metadata": {},
   "outputs": [],
   "source": []
  },
  {
   "cell_type": "code",
   "execution_count": 113,
   "metadata": {},
   "outputs": [
    {
     "name": "stdout",
     "output_type": "stream",
     "text": [
      "(21,)\n",
      "(21, 21)\n"
     ]
    }
   ],
   "source": [
    "union_idx = np.union1d(v_1.indices, v_2.indices)\n",
    "print(union_idx.shape)\n",
    "W_dist=euclidean_distances(W[union_idx])\n",
    "print(W_dist.shape)"
   ]
  },
  {
   "cell_type": "code",
   "execution_count": 107,
   "metadata": {},
   "outputs": [
    {
     "data": {
      "text/plain": [
       "array([[0.        , 4.33150786, 3.69190607, 3.51573346, 4.40742536,\n",
       "        4.2406966 , 3.66776426, 5.32796863, 4.6076104 , 3.87366043,\n",
       "        4.03292041, 3.68232048, 3.97739283, 4.07089836, 3.78574493,\n",
       "        4.29225462, 3.90000092, 4.21737327, 4.61094032, 3.78487026,\n",
       "        4.0699112 ],\n",
       "       [4.33150786, 0.        , 4.52605024, 4.43754657, 4.79339845,\n",
       "        4.65680189, 4.32836976, 5.68533231, 5.12321183, 4.64562881,\n",
       "        4.54897008, 4.68505573, 4.48915913, 5.04203627, 4.56628516,\n",
       "        4.71209435, 4.57461057, 4.80265174, 5.32921156, 4.60514251,\n",
       "        4.7585135 ],\n",
       "       [3.69190607, 4.52605024, 0.        , 3.83930907, 4.27006278,\n",
       "        4.19449884, 4.00830852, 5.50236743, 4.84945022, 4.16319906,\n",
       "        4.11225078, 4.19786522, 4.11111468, 4.60681817, 4.03979163,\n",
       "        4.18830452, 4.06176031, 4.4794481 , 4.6248163 , 4.25884557,\n",
       "        4.22798775],\n",
       "       [3.51573346, 4.43754657, 3.83930907, 0.        , 4.3537409 ,\n",
       "        4.22897121, 3.78518716, 5.26882942, 4.69284918, 3.89402823,\n",
       "        4.11431564, 3.76432273, 3.88921777, 4.32630499, 3.86660466,\n",
       "        4.13546795, 3.92637902, 4.29640527, 4.67028047, 3.80471916,\n",
       "        4.09634294],\n",
       "       [4.40742536, 4.79339845, 4.27006278, 4.3537409 , 0.        ,\n",
       "        4.92900594, 4.35693103, 5.47146384, 5.09729103, 4.76936207,\n",
       "        4.67347488, 4.67467745, 4.46271391, 5.03760763, 4.61307971,\n",
       "        4.54783502, 4.57860638, 4.78929205, 5.07356318, 4.51722773,\n",
       "        4.81374255],\n",
       "       [4.2406966 , 4.65680189, 4.19449884, 4.22897121, 4.92900594,\n",
       "        0.        , 4.37875307, 5.78439414, 5.08867966, 4.54530965,\n",
       "        4.19697493, 4.59673233, 4.54900779, 4.7706632 , 4.43502294,\n",
       "        4.60055489, 4.45981607, 4.78161147, 5.08758628, 4.07863413,\n",
       "        4.68078979],\n",
       "       [3.66776426, 4.32836976, 4.00830852, 3.78518716, 4.35693103,\n",
       "        4.37875307, 0.        , 5.36109997, 4.55877951, 3.7928221 ,\n",
       "        3.98495896, 3.94036703, 3.79187445, 4.32487294, 3.74492432,\n",
       "        4.08766689, 4.02893321, 4.45334311, 4.80322644, 3.88477236,\n",
       "        4.09013926],\n",
       "       [5.32796863, 5.68533231, 5.50236743, 5.26882942, 5.47146384,\n",
       "        5.78439414, 5.36109997, 0.        , 5.75534892, 5.24150009,\n",
       "        5.63334371, 5.48110056, 5.43494936, 5.84951411, 5.65164589,\n",
       "        5.61917842, 5.65607579, 5.90885478, 5.79418672, 5.4762459 ,\n",
       "        5.77059392],\n",
       "       [4.6076104 , 5.12321183, 4.84945022, 4.69284918, 5.09729103,\n",
       "        5.08867966, 4.55877951, 5.75534892, 0.        , 4.87020942,\n",
       "        5.05130324, 4.97964268, 5.0065344 , 5.1279232 , 5.02784027,\n",
       "        4.91308004, 4.8497246 , 5.15237136, 5.64532635, 4.9034726 ,\n",
       "        5.09325868],\n",
       "       [3.87366043, 4.64562881, 4.16319906, 3.89402823, 4.76936207,\n",
       "        4.54530965, 3.7928221 , 5.24150009, 4.87020942, 0.        ,\n",
       "        4.43173483, 4.06456951, 4.24091558, 4.15107239, 4.37558929,\n",
       "        4.39700728, 4.36516855, 4.54766286, 5.01464348, 4.36476012,\n",
       "        4.47880171],\n",
       "       [4.03292041, 4.54897008, 4.11225078, 4.11431564, 4.67347488,\n",
       "        4.19697493, 3.98495896, 5.63334371, 5.05130324, 4.43173483,\n",
       "        0.        , 4.22867043, 4.49770032, 4.47832469, 4.2686042 ,\n",
       "        4.58144305, 4.15112811, 4.61297871, 5.00853381, 3.81169095,\n",
       "        4.45178886],\n",
       "       [3.68232048, 4.68505573, 4.19786522, 3.76432273, 4.67467745,\n",
       "        4.59673233, 3.94036703, 5.48110056, 4.97964268, 4.06456951,\n",
       "        4.22867043, 0.        , 4.37776898, 4.20942497, 4.21044768,\n",
       "        4.73276455, 4.13218939, 4.45723378, 5.03106835, 4.07654113,\n",
       "        4.35971019],\n",
       "       [3.97739283, 4.48915913, 4.11111468, 3.88921777, 4.46271391,\n",
       "        4.54900779, 3.79187445, 5.43494936, 5.0065344 , 4.24091558,\n",
       "        4.49770032, 4.37776898, 0.        , 4.48161305, 3.62580357,\n",
       "        4.5014326 , 4.13038359, 4.52631416, 5.00143617, 3.90794124,\n",
       "        4.51758398],\n",
       "       [4.07089836, 5.04203627, 4.60681817, 4.32630499, 5.03760763,\n",
       "        4.7706632 , 4.32487294, 5.84951411, 5.1279232 , 4.15107239,\n",
       "        4.47832469, 4.20942497, 4.48161305, 0.        , 4.60321375,\n",
       "        4.7488028 , 4.64126119, 4.86779149, 5.26124852, 4.38590302,\n",
       "        4.8091238 ],\n",
       "       [3.78574493, 4.56628516, 4.03979163, 3.86660466, 4.61307971,\n",
       "        4.43502294, 3.74492432, 5.65164589, 5.02784027, 4.37558929,\n",
       "        4.2686042 , 4.21044768, 3.62580357, 4.60321375, 0.        ,\n",
       "        4.43144363, 3.88222107, 4.28506711, 4.92554076, 3.95339865,\n",
       "        4.22813462],\n",
       "       [4.29225462, 4.71209435, 4.18830452, 4.13546795, 4.54783502,\n",
       "        4.60055489, 4.08766689, 5.61917842, 4.91308004, 4.39700728,\n",
       "        4.58144305, 4.73276455, 4.5014326 , 4.7488028 , 4.43144363,\n",
       "        0.        , 4.30013165, 4.61797717, 5.02795943, 4.2471827 ,\n",
       "        4.7546432 ],\n",
       "       [3.90000092, 4.57461057, 4.06176031, 3.92637902, 4.57860638,\n",
       "        4.45981607, 4.02893321, 5.65607579, 4.8497246 , 4.36516855,\n",
       "        4.15112811, 4.13218939, 4.13038359, 4.64126119, 3.88222107,\n",
       "        4.30013165, 0.        , 4.41770622, 4.87930284, 4.03392721,\n",
       "        4.24268328],\n",
       "       [4.21737327, 4.80265174, 4.4794481 , 4.29640527, 4.78929205,\n",
       "        4.78161147, 4.45334311, 5.90885478, 5.15237136, 4.54766286,\n",
       "        4.61297871, 4.45723378, 4.52631416, 4.86779149, 4.28506711,\n",
       "        4.61797717, 4.41770622, 0.        , 5.498887  , 4.5998181 ,\n",
       "        4.75457701],\n",
       "       [4.61094032, 5.32921156, 4.6248163 , 4.67028047, 5.07356318,\n",
       "        5.08758628, 4.80322644, 5.79418672, 5.64532635, 5.01464348,\n",
       "        5.00853381, 5.03106835, 5.00143617, 5.26124852, 4.92554076,\n",
       "        5.02795943, 4.87930284, 5.498887  , 0.        , 4.49043699,\n",
       "        5.11254434],\n",
       "       [3.78487026, 4.60514251, 4.25884557, 3.80471916, 4.51722773,\n",
       "        4.07863413, 3.88477236, 5.4762459 , 4.9034726 , 4.36476012,\n",
       "        3.81169095, 4.07654113, 3.90794124, 4.38590302, 3.95339865,\n",
       "        4.2471827 , 4.03392721, 4.5998181 , 4.49043699, 0.        ,\n",
       "        4.25805439],\n",
       "       [4.0699112 , 4.7585135 , 4.22798775, 4.09634294, 4.81374255,\n",
       "        4.68078979, 4.09013926, 5.77059392, 5.09325868, 4.47880171,\n",
       "        4.45178886, 4.35971019, 4.51758398, 4.8091238 , 4.22813462,\n",
       "        4.7546432 , 4.24268328, 4.75457701, 5.11254434, 4.25805439,\n",
       "        0.        ]])"
      ]
     },
     "execution_count": 107,
     "metadata": {},
     "output_type": "execute_result"
    }
   ],
   "source": [
    "W_dist"
   ]
  },
  {
   "cell_type": "code",
   "execution_count": 110,
   "metadata": {},
   "outputs": [],
   "source": [
    "e1=v_1[:,union_idx].A.ravel()\n",
    "\n",
    "e2=v_2[:,union_idx].A.ravel()\n"
   ]
  },
  {
   "cell_type": "code",
   "execution_count": 124,
   "metadata": {},
   "outputs": [
    {
     "data": {
      "text/plain": [
       "array([[0., 0., 0., 0., 0., 0., 0., 0., 0., 0., 0., 0., 0., 1., 0., 0.,\n",
       "        0., 0., 0., 0., 0.],\n",
       "       [0., 0., 0., 1., 0., 0., 0., 0., 0., 0., 0., 0., 0., 0., 0., 0.,\n",
       "        0., 0., 0., 0., 0.],\n",
       "       [0., 0., 0., 0., 0., 0., 0., 0., 0., 0., 1., 0., 0., 0., 0., 0.,\n",
       "        0., 0., 0., 0., 0.],\n",
       "       [0., 0., 0., 0., 0., 0., 0., 0., 0., 0., 0., 0., 0., 0., 1., 0.,\n",
       "        0., 0., 0., 0., 0.],\n",
       "       [0., 0., 0., 0., 0., 0., 0., 1., 0., 0., 0., 0., 0., 0., 0., 0.,\n",
       "        0., 0., 0., 0., 0.],\n",
       "       [0., 0., 0., 0., 0., 0., 0., 0., 0., 0., 0., 0., 0., 0., 0., 0.,\n",
       "        0., 0., 0., 0., 1.],\n",
       "       [0., 1., 0., 0., 0., 0., 0., 0., 0., 0., 0., 0., 0., 0., 0., 0.,\n",
       "        0., 0., 0., 0., 0.],\n",
       "       [0., 0., 0., 0., 0., 0., 0., 0., 0., 1., 0., 0., 0., 0., 0., 0.,\n",
       "        0., 0., 0., 0., 0.],\n",
       "       [1., 0., 0., 0., 0., 0., 0., 0., 0., 0., 0., 0., 0., 0., 0., 0.,\n",
       "        0., 0., 0., 0., 0.]])"
      ]
     },
     "execution_count": 124,
     "metadata": {},
     "output_type": "execute_result"
    }
   ],
   "source": [
    "v_1[:,union_idx].A"
   ]
  },
  {
   "cell_type": "code",
   "execution_count": 119,
   "metadata": {},
   "outputs": [
    {
     "data": {
      "text/plain": [
       "189"
      ]
     },
     "execution_count": 119,
     "metadata": {},
     "output_type": "execute_result"
    }
   ],
   "source": [
    "len(e1)"
   ]
  },
  {
   "cell_type": "code",
   "execution_count": null,
   "metadata": {},
   "outputs": [],
   "source": []
  }
 ],
 "metadata": {
  "kernelspec": {
   "display_name": "Python 3",
   "language": "python",
   "name": "python3"
  },
  "language_info": {
   "codemirror_mode": {
    "name": "ipython",
    "version": 3
   },
   "file_extension": ".py",
   "mimetype": "text/x-python",
   "name": "python",
   "nbconvert_exporter": "python",
   "pygments_lexer": "ipython3",
   "version": "3.7.3"
  }
 },
 "nbformat": 4,
 "nbformat_minor": 2
}
