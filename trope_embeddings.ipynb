{
 "cells": [
  {
   "cell_type": "code",
   "execution_count": 61,
   "metadata": {},
   "outputs": [],
   "source": [
    "import gensim\n",
    "from gensim.corpora import Dictionary\n",
    "from gensim.models import LsiModel\n",
    "from gensim.models import KeyedVectors\n",
    "from gensim.scripts.glove2word2vec import glove2word2vec\n",
    "import itertools\n",
    "import json\n",
    "from nltk.tokenize import word_tokenize\n",
    "import numpy as np\n",
    "import re\n",
    "from sklearn.feature_extraction.text import TfidfVectorizer\n",
    "from sklearn.metrics.pairwise import cosine_similarity\n",
    "from tqdm import tqdm"
   ]
  },
  {
   "cell_type": "code",
   "execution_count": 62,
   "metadata": {},
   "outputs": [],
   "source": [
    "'''\n",
    "Load a json file into a dictionary\n",
    "\n",
    "Input: \n",
    "    - file_path: path to json file containing dataset\n",
    "\n",
    "Returns: \n",
    "    - \n",
    "'''\n",
    "def load_json(file_path): \n",
    "    with open(file_path, 'r') as f: \n",
    "        data = json.load(f)\n",
    "    return data\n",
    "\n"
   ]
  },
  {
   "cell_type": "code",
   "execution_count": 63,
   "metadata": {},
   "outputs": [],
   "source": [
    "'''\n",
    "build a dataset using tropes \n",
    "\n",
    "Inputs: \n",
    "    - data: dictionary mapping titles to list of tropes\n",
    "\n",
    "Returns: \n",
    "    - dictionary: a bag of words dictionary representation tropes \n",
    "    - word_to_trope: mapping from individual word to tropes that contain the word\n",
    "'''\n",
    "def build_representation_for_tropes(data): \n",
    "    \n",
    "    # build corpus of titles that contain field \n",
    "    corpus = []\n",
    "    word_to_trope = {}\n",
    "    for title, tropes in data.items(): \n",
    "        all_trope_words_for_title = []\n",
    "        for trope in tropes: \n",
    "            trope_words = [word.lower() for word in re.findall('[A-Z][^A-Z]*', trope)]\n",
    "            all_trope_words_for_title.extend(trope_words)\n",
    "            for word in trope_words: \n",
    "                if word in word_to_trope: \n",
    "                    word_to_trope[word].add(trope)\n",
    "                else: \n",
    "                    word_to_trope[word] = set([trope])\n",
    "        corpus.append(all_trope_words_for_title)                                              \n",
    "            \n",
    "    print('{} titles'.format(len(corpus)))\n",
    "        \n",
    "    # build dictionary from corpus\n",
    "    dictionary = Dictionary(corpus)\n",
    "\n",
    "    return dictionary, word_to_trope\n"
   ]
  },
  {
   "cell_type": "code",
   "execution_count": 64,
   "metadata": {},
   "outputs": [],
   "source": [
    "'''\n",
    "Build a vectorizer and tf-idf matrix corresponding to a dataset\n",
    "\n",
    "Inputs: \n",
    "    - data: dictionary mapping titles to tropes\n",
    "    \n",
    "Returns: \n",
    "    - vectorizer: a vectorizer object \n",
    "    - tf_idf_matrix: a tf-idf matrix corresponding to the topes in the dataset\n",
    "'''\n",
    "def make_tf_idf(data): \n",
    "    \n",
    "    # make a vectorizer based on the 'to' dataset\n",
    "    vectorizer = TfidfVectorizer(analyzer = 'word',\n",
    "                                 tokenizer = lambda x : x, \n",
    "                                 lowercase = False)\n",
    "    tf_idf_matrix = vectorizer.fit_transform(list(data.values()))\n",
    "\n",
    "    return vectorizer, tf_idf_matrix\n",
    "    "
   ]
  },
  {
   "cell_type": "code",
   "execution_count": 65,
   "metadata": {},
   "outputs": [],
   "source": [
    "'''\n",
    "Returns the k tropes closest to the keyword \n",
    "\n",
    "Inputs: \n",
    "    - keyword: the keyword to search\n",
    "    - dictionary: dictionary of trope words in dataset to search against \n",
    "    - word_to_trope: dictionary mapping word to set of tropes containing the word\n",
    "    - model: the pretrained gensim model\n",
    "    - top_k: number of tropes to return\n",
    "\n",
    "Returns: \n",
    "    - trope_matches: list of the k tropes that are closest to the keyword\n",
    "'''\n",
    "def get_closest_tropes_to_keyword(keyword, dictionary, word_to_trope, model, top_k = 5): \n",
    "    \n",
    "    # check that keyword is in vocabulary \n",
    "    if keyword in model.vocab: \n",
    "        # compute cosine similarity between query and all trope words\n",
    "        all_words = list(dictionary.values())\n",
    "        all_words = [word for word in all_words if word in model.vocab]\n",
    "        dists = model.distances(keyword, all_words)\n",
    "\n",
    "        # sort by similarity in ascending order (0 = perfect similarity)\n",
    "        sorted_indices = np.argsort(dists)\n",
    "        sorted_keyword_match = [all_words[idx] for idx in sorted_indices[:top_k]]\n",
    "\n",
    "        print('\\ntop {} matches most similar to `{}`'.format(top_k, keyword))\n",
    "        for word in sorted_keyword_match: \n",
    "            print('`{}` : {}'.format(word, word_to_trope[word]))\n",
    "\n",
    "        trope_matches = list(itertools.chain.from_iterable([word_to_trope[word] for word in sorted_keyword_match if word in word_to_trope]))\n",
    "        print('\\nenhancing search with : {}'.format(trope_matches[:top_k]))\n",
    "\n",
    "        return trope_matches[:top_k]\n",
    "    \n",
    "    else: \n",
    "        print('`{}` not in model vocabulary, cannot enhance search with keyword'.format(keyword))\n",
    "        return []\n",
    "    "
   ]
  },
  {
   "cell_type": "code",
   "execution_count": 66,
   "metadata": {},
   "outputs": [],
   "source": [
    "'''\n",
    "Finds the best titles according to tropes based on an input title and keyword. \n",
    "The trope words of the title being searched and the trope words most similar to \n",
    "the keyword are used to find the best matches. Half the number of the tropes corresponding\n",
    "to the title being queried are used to enhance the keyword aspect of the search (eg. if the \n",
    "queried title has 10 tropes associated with it, then the top 5 tropes associated with the \n",
    "keyword will be used to enhance the search. This value seems to result in a good balance)\n",
    "\n",
    "Inputs: \n",
    "    - title: the title being queried\n",
    "    - from_dataset: the dataset corresponding to the title (eg. book dataset if book title)\n",
    "    - keyword: the keyword to search\n",
    "    - dictionary: dictionary representation of trope words associated with each title of desired return type\n",
    "    - word_to_trope: dictionary mapping word to set of tropes containing the word\n",
    "    - to_tf_idf_matrix: tf-idf representation of tropes associated with each title of desired return type\n",
    "    - similarity_matrix: similarity matrix according to tf-idf representation \n",
    "    - model: the pretrained gensim model\n",
    "    \n",
    "Reutrns: \n",
    "    - similarity_scores: numpy array of similarity scores in where the index in the array corresponds\n",
    "                         to the index in the dataset of the media type being recommended\n",
    "'''\n",
    "def best_titles_by_tropes_enhanced(title, from_dataset, keyword, dictionary, word_to_trope, vectorizer, to_tf_idf_matrix, model): \n",
    "    \n",
    "    # get tropes coresponding to title \n",
    "    title_tropes =  from_dataset[title]\n",
    "    print('tropes for title `{}` : {}'.format(title, title_tropes))\n",
    "    \n",
    "    # get most similar tropes to keyword, use half the number of tropes in the title to enhance search \n",
    "    top_k_tropes = int(len(title_tropes)/2)\n",
    "    most_similar_tropes = get_closest_tropes_to_keyword(keyword, dictionary, word_to_trope, model, top_k_tropes)\n",
    "    \n",
    "    # extend query to include tropes associated with keyword\n",
    "    query_tropes = most_similar_tropes + title_tropes\n",
    "    \n",
    "    print('\\ntropes used for final query : {}'.format(query_tropes))\n",
    "    \n",
    "    # generate a query vector \n",
    "    query_vector = vectorizer.transform([query_tropes])\n",
    "    \n",
    "    # compute cosine similarity between query and all titles \n",
    "    similarity_scores = cosine_similarity(query_vector, to_tf_idf_matrix).flatten()\n",
    "    \n",
    "    return similarity_scores\n"
   ]
  },
  {
   "cell_type": "code",
   "execution_count": 67,
   "metadata": {},
   "outputs": [],
   "source": [
    "def print_results(title, keyword, similarity_scores, to_dataset, top_k_titles = 10): \n",
    "    \n",
    "    # sort the scores in descending order\n",
    "    ranked_indices = np.argsort(similarity_scores)[::-1]\n",
    "    \n",
    "    # get list of titles\n",
    "    to_titles = list(to_dataset.keys())\n",
    "\n",
    "    print('\\ntop {} most similar titles to `{}` by trope to keyword `{}` '.format(top_k_titles, title, keyword))\n",
    "    for idx in range(top_k_titles): \n",
    "        print((similarity_scores[ranked_indices[idx]], to_titles[ranked_indices[idx]]))\n",
    "    "
   ]
  },
  {
   "cell_type": "code",
   "execution_count": 68,
   "metadata": {},
   "outputs": [],
   "source": [
    "# load pretrained word embeddings\n",
    "model = KeyedVectors.load_word2vec_format('./app/irsystem/controllers/DatasetInfo/gensim_glove.6B.50d.txt', binary = False, limit=50000)\n"
   ]
  },
  {
   "cell_type": "code",
   "execution_count": 69,
   "metadata": {},
   "outputs": [],
   "source": [
    "with open(\"app/irsystem/controllers/TVTropesScraper/Film/Film_tropes_dataset3.json\", 'r') as f:\n",
    "    movies = json.load(f)\n",
    "with open(\"app/irsystem/controllers/TVTropesScraper/Literature/Literature_tropes_dataset3.json\", 'r') as f:\n",
    "    books = json.load(f)"
   ]
  },
  {
   "cell_type": "code",
   "execution_count": 70,
   "metadata": {},
   "outputs": [
    {
     "data": {
      "text/plain": [
       "4797"
      ]
     },
     "execution_count": 70,
     "metadata": {},
     "output_type": "execute_result"
    }
   ],
   "source": [
    "len(movies)"
   ]
  },
  {
   "cell_type": "code",
   "execution_count": 71,
   "metadata": {},
   "outputs": [
    {
     "name": "stdout",
     "output_type": "stream",
     "text": [
      "2933 titles\n",
      "4797 titles\n"
     ]
    }
   ],
   "source": [
    "# create dictionary representations of datasets\n",
    "book_dictionary, book_word_to_trope = build_representation_for_tropes(books)\n",
    "movie_dictionary, movie_word_to_trope = build_representation_for_tropes(movies)"
   ]
  },
  {
   "cell_type": "code",
   "execution_count": 72,
   "metadata": {},
   "outputs": [
    {
     "name": "stdout",
     "output_type": "stream",
     "text": [
      "(4797, 23416)\n"
     ]
    }
   ],
   "source": [
    "# build book to movie tf-idf matrix\n",
    "book_to_movie_vectorizer, movie_tf_idf = make_tf_idf(movies)\n",
    "print(movie_tf_idf.shape)\n"
   ]
  },
  {
   "cell_type": "code",
   "execution_count": 73,
   "metadata": {},
   "outputs": [
    {
     "name": "stdout",
     "output_type": "stream",
     "text": [
      "(2933, 20195)\n"
     ]
    }
   ],
   "source": [
    "# build movie to book tf-idf matrix\n",
    "movie_to_book_vectorizer, book_tf_idf = make_tf_idf(books)\n",
    "print(book_tf_idf.shape)"
   ]
  },
  {
   "cell_type": "code",
   "execution_count": 74,
   "metadata": {},
   "outputs": [],
   "source": [
    "'''\n",
    "FULL SEARCH ALGORITHM TO USE IN FINAL PROJECT. This returns a numpy array of similarity scores\n",
    "for a title + keyword query\n",
    "\n",
    "Inputs: \n",
    "     - title: the title being queried\n",
    "     - keyword: the keyword being queried\n",
    "     - direction: either 'book to movie' or 'movie to book' \n",
    "\n",
    "Returns: \n",
    "     - similarity_scores: numpy array of similarity scores where the index in the array \n",
    "                          corresponds to the index in the 'to' dataset (ie. if the query\n",
    "                          direction was book to movie, the indices would correspond to the \n",
    "                          indices in the movie tropes dataset)\n",
    "'''\n",
    "def full_search(title, keyword, direction):\n",
    "    \n",
    "    \n",
    "    if direction == 'book to movie': \n",
    "        from_dataset = books\n",
    "        dictionary = movie_dictionary\n",
    "        word_to_trope = movie_word_to_trope\n",
    "        vectorizer = book_to_movie_vectorizer\n",
    "        to_tf_idf_matrix = movie_tf_idf\n",
    "    else: # movie to book\n",
    "        from_dataset = movies\n",
    "        dictionary = book_dictionary\n",
    "        word_to_trope = book_word_to_trope\n",
    "        vectorizer = movie_to_book_vectorizer\n",
    "        to_tf_idf_matrix = book_tf_idf\n",
    "           \n",
    "    similarity_scores = best_titles_by_tropes_enhanced(title, \n",
    "                                                       from_dataset, \n",
    "                                                       keyword, \n",
    "                                                       dictionary, \n",
    "                                                       word_to_trope, \n",
    "                                                       vectorizer, \n",
    "                                                       to_tf_idf_matrix, \n",
    "                                                       model)\n",
    "\n",
    "    return similarity_scores\n",
    "    \n",
    "    "
   ]
  },
  {
   "cell_type": "code",
   "execution_count": 75,
   "metadata": {},
   "outputs": [
    {
     "name": "stdout",
     "output_type": "stream",
     "text": [
      "tropes for title `Harry Potter and the Chamber of Secrets` : ['DoesThisRemindYouOfAnything', 'ForebodingFleeingFlock', 'ParentalBonus', 'MaliciousSlander', 'ForgottenPhlebotinum', 'WordOfGod', 'BecomingTheBoast', 'StealingTheCredit', 'EpicFail', 'CoolAndUnusualPunishment', 'EarlyBirdCameo', 'OurBugbearsAreScarier', 'Diary', 'RansackedRoom', 'BlankBook', 'FlyingCar', 'ContrivedCoincidence', 'Narm', 'ButtDialingMordor', 'HearingVoices', 'WhatMeasureIsANonHuman', 'EnslavedTongue', 'NotMeThisTime', 'INeverSaidItWasPoison', 'SpiderSwarm', 'Narcissist', 'RedHerring', 'BeastInTheMaze', 'DudeNotFunny', 'BigBrotherInstinct', 'ComicallyIneptHealing', 'HandOfGlory', 'IThoughtEveryoneCouldDoThat', 'BreakTheHaughty', 'BalefulPolymorph', 'ObliviousGuiltSlinging', 'MrFanservice', 'AllForNothing', 'HijackedByGanon', 'OhCrap', 'ThoroughlyMistakenIdentity', 'TheAllegedExpert', 'MonsterOfTheWeek', 'MilkyWhiteEyes', 'StarstruckSpeechless', 'StrongerWithAge', 'LaserGuidedKarma', 'WritersCannotDoMath', 'MindRape', 'LittleNo', 'DisproportionateRetribution', 'BuffySpeak', 'SneezeOfDoom', 'ThisIsGonnaSuck', 'BatScare', 'InvisibleWriting', 'InnocuouslyImportantEpisode', 'LovePotion', 'VillainWithGoodPublicity', 'MuggleBornOfMages', 'WreckedWeapon', 'CallingOutForNotCalling', 'ThirdPersonPerson', 'TheReasonYouSuckSpeech', 'WhoWouldBeStupidEnough', 'ChekhovsGunman', 'LetMeAtHim', 'MagicMisfire', 'CaughtWithYourPantsDown', 'OrificeEvacuation', 'TheDandy', 'DeadlyBook', 'HilarityEnsues', 'SentientVehicle', 'HorrorDoesntSettleForSimpleTuesday', 'TrickedIntoSigning', 'EverybodyLives', 'HoistByHisOwnPetard', 'SignificantAnagram', 'NoodleIncident', 'RuleOfThree', 'ObfuscatingStupidity', 'JerkassHasAPoint', 'IJustWantToBeFree', 'SoulJar', 'AbsurdlySpaciousSewer', 'RewatchBonus', 'WroteTheBook', 'TomTheDarkLord', 'ShrineToSelf', 'AntiVillain', 'IHaveJustOneThingToSay', 'Irony', 'DeaderThanDead', 'DragonInChief', 'WellIntentionedExtremist', 'AbusiveParents', 'EatingOptional', 'SeriesContinuityError', 'AnAesop', 'WondrousLadiesRoom', 'AlternateIdentityAmnesia', 'XanatosGambit', 'CameraFiend', 'TheDragon', 'BlastingItOutOfTheirHands', 'ReptilesAreAbhorrent', 'WeaksauceWeakness', 'BackwardsFiringGun', 'MindControl', 'CoveringForTheNoise', 'DisappointedInYou', 'Lampshaded', 'PredecessorVillain', 'ArcVillain', 'ItIsDehumanizing', 'WhamLine', 'DarkerAndEdgier', 'NiceJobFixingItVillain', 'AdultFear', 'ArtisticLicenseBiology', 'DisneyDeath', 'KidsDrivingCars', 'EurekaMoment', 'HammyHerald', 'CerebusSyndrome', 'GreaterScopeVillain', 'SpinningOutOfHere', 'EyeScream', 'DoWrongRight', 'PostMortemComeback', 'YouAreBetterThanYouThinkYouAre', 'PensieveFlashback', 'ClownCar', 'WontTakeYesForAnAnswer', 'JokeAndReceive', 'RightBehindMe', 'BeCarefulWhatYouWishFor', 'UnwantedAssistance', 'BrickJoke', 'BasiliskAndCockatrice', 'Foreshadowing', 'LoopholeAbuse', 'DirtyCoward', 'DidntThinkThisThrough', 'FailedASpotCheck', 'BathroomStallOfOverheardInsults', 'BigBad', 'CoverIdentityAnomaly', 'MissedTheBus', 'SavedByTheAwesome', 'INeverGotAnyLetters', 'HoldingItForAFriend', 'FacePalm', 'ShoutOut', 'HeelFaceTurn', 'MotiveMisidentification', 'SmallNameBigEgo', 'RightForTheWrongReasons', 'KnowNothingKnowItAll', 'GiantSpider', 'WatchOutForThatTree', 'AlliterativeTitle', 'GettingCrapPastTheRadar', 'PoliticallyIncorrectVillain', 'BodyHorror', 'AreYouSureYouCanDriveThisThing', 'INeedToGoIronMyDog', 'RealityEnsues', 'DeadAnimalWarning', 'PunnyName', 'NoConservationOfEnergy', 'ShrinkingViolet', 'DeadGuyJunior', 'InformedAbility', 'LeeroyJenkins', 'FeetOfClay', 'DangerousDeviceDisposalDebacle', 'GambitRoulette', 'TemptingFate', 'MailerDaemon', 'PortalSlam', 'ItsLikeIAlwaysSay', 'WhyDidItHaveToBeSnakes', 'HarmfulHealing', 'HeadlockOfDominance', 'StalkerWithACrush', 'SealedEvilInACan', 'ForgottenBirthday', 'ActuallyPrettyFunny', 'SwordCane', 'IneptMage', 'SerpentOfImmortality', 'EarlyInstallmentWeirdness', 'EasilyCondemned', 'LivingMemory', 'AscendedExtra', 'FollowTheWhiteRabbit', 'DinnerWithTheBoss', 'ChekhovsGun', 'InvoluntaryGroupSplit', 'ParodyMagicSpell', 'HotForTeacher']\n",
      "\n",
      "top 101 matches most similar to `dogs`\n",
      "`dogs` : {'HypnosisProofDogs', 'DogsAreDumb', 'SledDogsThroughTheSnow', 'DogsHateSquirrels', 'AllAnimalsAreDogs', 'AllDogsArePurebred', 'YankTheDogsChain', 'HeroesLoveDogs', 'ACatInAGangOfDogs'}\n",
      "`cats` : {'CatsAreMagic', 'CatsAreMean', 'CatsHaveNineLives', 'AllWitchesHaveCats', 'CatsHateWater', 'CatsAreSnarkers', 'CatsAreSuperior', 'TheInternetIsForCats'}\n",
      "`dog` : {'PetTheDog', 'DogFoodDiet', 'RightHandAttackDog', 'BewareOfViciousDog', 'CatDogDichotomy', 'DogDiesAtTheEnd', 'HeroicDog', 'PostApocalypticDog', 'BigFriendlyDog', 'EatTheDog', 'PuppyDogEyes', 'PhotoOpWithTheDog', 'ADogNamedDog', 'KickTheDog', 'ADogAteMyHomework', 'MistakenForDog', 'MicrowaveTheDog', 'BadgesAndDogTags', 'LickedByTheDog', 'KicktheDog', 'INeedToGoIronMyDog', 'ShaggyDogStory', 'ShooTheDog', 'OldSchoolDogFight', 'IHaveToGoIronMyDog', 'ThrowTheDogABone', 'TheDogShotFirst', 'EvenTheDogIsAshamed', 'DogPileofDoom', 'RobotDog', 'ShootTheShaggyDog', 'ScareTheDog', 'DogStereotype', 'OldDog', 'DogWalksYou', 'AdoptTheDog', 'MailmanVsDog', 'DisneyDogFight', 'AngryGuardDog', 'TheDogIsAnAlien', 'MakeTheDogTestify', 'BaitTheDog', 'TheDogWasTheMastermind', 'ShootTheDog', 'EvilDetectingDog', 'DogLatin', 'TheDogBitesBack', 'AndYourLittleDogToo', 'DogPileOfDoom', 'ShootTheShaggyDogStory', 'HairOfTheDog'}\n",
      "`animals` : {'AnimalsLackAttributes', 'AnimalsHateHim', 'WorldOfFunnyAnimals', 'CruellaToAnimals', 'NeverWorkWithChildrenOrAnimals', 'AnimalsHateHer', 'AllAnimalsAreDomesticated', 'AllDrummersAreAnimals', 'AllAnimalsAreDogs', 'GoodAnimalsEvilAnimals', 'AnimalsNotToScale', 'MarriedAnimals', 'AnimalsSeeInMonochrome', 'AlienAnimals', 'BadPeopleAbuseAnimals', 'CraftedFromAnimals', 'NoAnimalsWereHarmed', 'GirlsLoveStuffedAnimals'}\n",
      "`rats` : {'EvenTheRatsWontTouchIt', 'SwarmOfRats'}\n",
      "`cat` : {'CatDogDichotomy', 'CatScare', 'CatNinja', 'KindheartedCatLover', 'CatStereotype', 'ApathyKilledTheCat', 'TheCatCameBack', 'ConvenientDecoyCat', 'CheshireCatGrin', 'ClassyCatBurglar', 'ACatInAGangOfDogs', 'RightHandCat', 'CatSmile', 'CatFolk', 'CrazyCatLady', 'FluffyDryCat', 'SexyCatPerson', 'WhoWillBellTheCat', 'CatFight', 'CoolCat', 'CatGirl', 'ThatPoorCat', 'CostumeCopyCat', 'CatUpATree', 'KindHeartedCatLover', 'FatCat'}\n",
      "`pigs` : {'CueTheFlyingPigs', 'FedToPigs', 'EverythingsMessierWithPigs'}\n",
      "`animal` : {'AnimalNemesis', 'AnimalReactionShot', 'NaiveAnimalLover', 'EscapedAnimalRampage', 'PetBabyWildAnimal', 'AnimalGenderBender', 'SpeechImpairedAnimal', 'PoundsAreAnimalPrisons', 'AnimalSuperheroes', 'DetectiveAnimal', 'FoodAndAnimalAttraction', 'SlidingScaleOfAnimalCast', 'NearlyNormalAnimal', 'SillyAnimalSound', 'UnusualAnimalAlliance', 'StockAnimalDiet', 'PartiallyCivilizedAnimal', 'AnimalMotif', 'UpliftedAnimal', 'AppropriateAnimalAttire', 'AnimalTesting', 'LoyalAnimalCompanion', 'HumanoidFemaleAnimal', 'SlidingScaleOfAnimalCommunication', 'AnimalEaredHeadband', 'AnimalFacialHair', 'AttackAnimal', 'TalkingAnimal', 'AnimalWrongsGroup', 'AnimalStereotypes', 'AnimalStampede', 'AnimalTalk', 'FunnyAnimal', 'AnimalCompanion', 'AnimalMotifs', 'AnimalJingoism', 'ArtisticLicenseAnimalCare', 'CivilizedAnimal', 'AnimalEyes', 'MysteriousAnimalSenses', 'AlternateAnimalAffection', 'FunnyAnimalAnatomy', 'BarefootCartoonAnimal', 'AmplifiedAnimalAptitude', 'AnimalReligion', 'AnimalThemeNaming', 'SpeaksFluentAnimal', 'WeaponizedAnimal', 'AnimalMetaphor', 'AnimalAthleteLoophole', 'AnimalAssassin', 'AnimalThemedSuperbeing', 'AnimalBattleAura', 'AnimalEyeSpy', 'AnimalEspionage', 'HalfDressedCartoonAnimal', 'StrayAnimalStory', 'NationalAnimalStereotypes', 'PantomimeAnimal', 'BlackComedyAnimalCruelty', 'FullyDressedCartoonAnimal', 'AdjectiveAnimalAlehouse', 'DeadAnimalWarning', 'AccessoryWearingCartoonAnimal', 'HumanlikeAnimalAging', 'IntellectualAnimal', 'SmartAnimalAverageHuman'}\n",
      "`stray` : {'StrayShotsStrikeNothing', 'StrayAnimalStory'}\n",
      "`horses` : {'InvulnerableHorses', 'ZebrasAreJustStripedHorses', 'AutomatonHorses'}\n",
      "`pets` : {'FreeRangePets', 'UnusualPetsForUnusualPeople', 'PetsVersusStrays', 'PetsHomageName'}\n"
     ]
    },
    {
     "name": "stdout",
     "output_type": "stream",
     "text": [
      "`birds` : {'BirdsOfAFeather', 'AllFlyersAreBirds', 'NobodyHereButUsBirds', 'RocBirds'}\n",
      "`snakes` : {'SnakesAreSinister', 'SnakesAreEvil', 'WhyDidItHaveToBeSnakes', 'SnakesAreSexy'}\n",
      "`rabbits` : {'LuckyRabbitsFoot'}\n",
      "`eating` : {'CheeseEatingSurrenderMonkeys', 'EatingMachine', 'EatingShoes', 'EatingPetFood', 'EroticEating', 'EatingLunchAlone', 'EatingTheEnemy', 'TypewriterEating', 'RegretEatingMe', 'PostStressOverEating', 'EatingTheEyeCandy', 'ManEatingPlant', 'EatingContest'}\n",
      "`eat` : {'EatTheBomb', 'EatTheCamera', 'EatMe', 'EatTheDog', 'JustEatGilligan', 'YouAreWhoYouEat', 'EatMyDust', 'EatTheRich', 'IfYoureSoEvilEatThisKitten', 'CyberneticsEatYourSoul', 'EatDirtCheap', 'RealMenEatMeat', 'CityPeopleEatSushi', 'JustEatHim', 'EatBrainForMemories', 'DontEatAndSwim', 'ForgetsToEat', 'EatTheEvidence', 'IsItSomethingYouEat', 'CyberneticsWillEatYourSoul', 'SapientEatSapient'}\n",
      "`elephants` : {'PinkElephants', 'WarElephants', 'ElephantsChild'}\n",
      "`insects` : {'HumansAreInsects'}\n",
      "`pet` : {'PetTheDog', 'HeroicPetStory', 'HeadPet', 'FormallyNamedPet', 'MoralityPet', 'PetBabyWildAnimal', 'TeachersPet', 'PetMonstrosity', 'TeamPet', 'KickTheMoralityPet', 'HumanPet', 'EmpathyPet', 'PetRat', 'PetHomosexual', 'AbandonedPetInABox', 'PetPeeveTrope', 'ParrotPetPosition', 'FirstPetStory', 'PetHeir', 'ChronicPetKiller', 'APetIntoTheWild', 'TerrifyingPetStoreRat', 'SapientPet', 'LabPet', 'EatingPetFood', 'CoolPet', 'DeadPetSketch', 'UnsuccessfulPetAdoption'}\n",
      "`sheep` : {'OnlyElectricSheepAreCheap', 'SheepInWolfsClothing', 'SheepInSheepsClothing', 'WhiteSheep', 'BlackSheep'}\n",
      "`hunting` : {'GeneHunting', 'HuntingAccident', 'HuntingTheMostDangerousGame'}\n",
      "`herd` : {'CastHerd'}\n",
      "`cows` : {'EverythingsBetterWithCows'}\n",
      "`sniffing` : {'PervertedSniffing'}\n",
      "`monkeys` : {'EverythingsBetterWithMonkeys', 'CheeseEatingSurrenderMonkeys', 'ManiacMonkeys', 'EverythingIsBetterWithMonkeys'}\n",
      "`wild` : {'TheWildWest', 'AWildRapperAppears', 'WildHair', 'WildTeenParty', 'UptightLovesWild', 'WildTake', 'CallOfTheWildBlueYonder', 'PetBabyWildAnimal', 'WildGooseChase', 'WildMagic', 'APetIntoTheWild', 'WildCard', 'WildMassGuessing', 'DawnOfTheWildWest', 'WildWilderness', 'WildChild'}\n",
      "`squirrels` : {'SquirrelsInMyPants', 'DogsHateSquirrels'}\n",
      "`fish` : {'FishOutOfWater', 'FishEyeLens', 'ExplodingFishTanks', 'NormalFishInATinyPond', 'GoldFishPoopGang', 'GuttedLikeAFish', 'FishPerson', 'FishPeople', 'AlwaysABiggerFish', 'SummonBiggerFish', 'FishEyes', 'NoCartoonFish', 'FishOutOfTemporalWater'}\n",
      "`sick` : {'YouMakeMeSick', 'SickCaptiveScam', 'SickAndWrong', 'PlayingSick', 'LaughThemselvesSick', 'SickEpisode'}\n",
      "`pack` : {'ExpansionPackWorld', 'SealedEvilInASixPack', 'HumanPackMule', 'JumpJetPack', 'JetPack', 'HelicopterPack', 'FanservicePack', 'FanServicePack', 'MissionPackSequel', 'ExpansionPackPast', 'IWantMyJetPack', 'MechaExpansionPack'}\n",
      "`prey` : {'NobleBirdOfPrey', 'KidnappingBirdOfPrey', 'ThankYourPrey', 'MorePredatorsThanPrey'}\n",
      "`cattle` : {'AliensStealCattle', 'CattleDrive', 'CattlePunk', 'CattleBaron'}\n",
      "`feed` : {'FeedItWithFire', 'ForgotToFeedTheMonster', 'FeedByExample', 'FeedTheMole', 'FeedItABomb'}\n",
      "`bird` : {'InstantlyDefeatheredBird', 'KidnappingBirdOfPrey', 'BirdRun', 'EarlyBirdCameo', 'FlippingTheBird', 'BrokenBird', 'NobleBirdOfPrey', 'BirdPoopGag', 'BalloonBurstingBird', 'DumbDodoBird', 'FlipTheBird', 'BirdCaged', 'ToothyBird', 'AcrophobicBird'}\n",
      "`rodents` : {'RodentsOfUnusualSize'}\n",
      "`pig` : {'ThePigPen', 'GuineaPigFamily', 'MessyPig', 'PorkyPigPronunciation', 'PigMan', 'GluttonousPig', 'ProfessorGuineaPig', 'PigLatin'}\n",
      "`bite` : {'FightForTheLastBite'}\n",
      "`feeding` : {'ForceFeeding'}\n",
      "`sniff` : {'SniffSniffNom'}\n",
      "`shark` : {'SharkPool', 'JumpingTheShark', 'VoodooShark', 'JumpedTheShark', 'SharkMan', 'SharkTunnel', 'LoanShark', 'ThreateningShark', 'SharkFinOfDoom'}\n",
      "`elephant` : {'WhiteElephant', 'ElephantInTheLivingRoom', 'GoingToSeeTheElephant', 'ElephantInTheRoom', 'ElephantGraveyard', 'HonorableElephant'}\n",
      "`kids` : {'WhatDoYouMeanItsNotForKids', 'RemarryingForYourKids', 'TakeCareOfTheKids', 'KidsRock', 'KidsShouldntWatchHorrorFilms', 'SubvertedKidsShow', 'EvilParentsWantGoodKids', 'SillyRabbitRomanceIsForKids', 'WinningOverTheKids', 'HomeschooledKids', 'TakingTheKids', 'StrictParentsMakeSneakyKids', 'KidsPreferBoxes', 'TheKidsAreAmerican', 'WhatDoYouMeanItsForKids', 'SillyRabbitIdealismIsForKids', 'KidsWildernessEpic', 'KidsVersusAdults', 'PatchworkKids', 'TheMeddlingKidsAreUseless', 'ExcitedKidsShowHost', 'CarloadOfCoolKids', 'SoMyKidsCanWatch', 'KidsDrivingCars', 'AllLesbiansWantKids', 'KidsPlayMatchmaker', 'DepravedKidsShowHost', 'MakeOutKids', 'YouMeddlingKids', 'KidsAreCruel', 'NotWantingKidsIsWeird', 'OneOfTheKids'}\n",
      "`hunted` : {'TheHunterBecomesTheHunted'}\n",
      "`shoot` : {'YouWouldntShootMe', 'ShootHimHeHasAWallet', 'WeComeInPeaceShootToKill', 'ShootEverythingThatMoves', 'JustShootHim', 'ShootTheMessenger', 'ShootTheTelevision', 'WouldNotShootACivilian', 'ShootTheMedicFirst', 'ShootTheRope', 'WhyDontYaJustShootHim', 'SeanConneryIsAboutToShootYou', 'PleaseShootTheMessenger', 'StopOrIWillShoot', 'ShootOutTheLock', 'ShootTheFuelTank', 'WhyDontYouJustShootHim', 'ShootTheShaggyDog', 'StopOrIShootMyself', 'ShootTheMageFirst', 'ShootTheHostage', 'SeanConneryIsGoingToShootYou', 'ShootTheBullet', 'ShootYourMate', 'ShootTheHostageTaker', 'ShootTheDog', 'ShootTheShaggyDogStory', 'ShootTheMoney', 'WouldNotShootAGoodGuy', 'ShootTheBuilder', 'GuysSmashGirlsShoot', 'DarkenedBuildingShootOut'}\n",
      "`breed` : {'HalfBreedDiscrimination', 'GenderEqualsBreed'}\n",
      "`turtles` : {'TeenageMutantNinjaTurtles'}\n",
      "`deer` : {'DeerInTheHeadlights', 'TheMarvelousDeer'}\n",
      "`sleeping` : {'SleepingTheirWayToTheTop', 'SleepingWithTheFishes', 'SleepingWithTheBoss', 'SleepingDummy', 'ReallyFondOfSleeping', 'SleepingWithTheBosssWife', 'AwakeningTheSleepingGiant', 'CarcassSleepingBag', 'AwakenTheSleepingGiant', 'SleepingSingle'}\n",
      "`flying` : {'DreamsOfFlying', 'FlyingSeaFoodSpecial', 'FlyingSaucer', 'TeethFlying', 'ThoseMagnificentFlyingMachines', 'FlyingUnderTheGaydar', 'FlyingDutchman', 'FlyingSeafoodSpecial', 'FlyingFirepower', 'FlyingBroomstick', 'FlyingWeapon', 'FlyingBrick', 'FlyingBroomStick', 'FlyingPostman', 'CueTheFlyingPigs', 'FlyingCar'}\n",
      "`puppies` : {'PreciousPuppies', 'EverythingsPreciousWithPuppies'}\n",
      "`they` : {'TheyKnowTooMuch', 'TheyCallMeMisterTibbs', 'TheyWereHoldingYouBack', 'TheyCallMeMrTibbs', 'XCalledTheyWantTheirYBack', 'TheyLookLikeUsNow', 'WillTheyOrWontThey', 'BrieferThanTheyThink', 'TheyLookLikeEveryoneElse', 'TheyFightCrime', 'SurgeonsCanDoAutopsiesIfTheyWant', 'TheyDiedBecauseOfYou', 'TheyReallyDoLoveEachOther', 'MexicoCalledTheyWantTexasBack', 'DoTheyKnowItsChristmasTime', 'ComplainingAboutRescuesTheyDontLike', 'WouldYouLikeToKnowHowTheyDied', 'EveryYearTheyFizzleOut', 'StrongerThanTheyLook', 'SomethingTheyWouldNeverSay', 'KickThemWhileTheyAreDown', 'TheyCallHimSword', 'ScrewTheRulesTheyBrokeThemFirst', 'WhereAreTheyNow', 'TheyJustDontGetIt', 'NextThingTheyKnew', 'YoungerThanTheyLook', 'TheyKilledKennyAgain', 'NewerThanTheyThink', 'TheyWalkAmongUs', 'TheyWastedAPerfectlyGoodSandwich', 'TheyChangedItNowItSucks', 'TheyHaveTheScent', 'TheyLookJustLikeEveryoneElse', 'CloserThanTheyAppear', 'TheyDo', 'TheyCalledMeMad', 'IsThatWhatTheyAreCallingItNow', 'TheyWouldCutYouUp', 'YouKnowWhatTheySay', 'WouldYouLikeToHearHowTheyDied', 'FasterThanTheyLook', 'AwLookTheyReallyDoLoveEachother', 'AwLookTheyReallyDoLoveEachOther', 'DidTheyOrDidntThey', 'YouKnowWhatTheySayAboutX', 'WhereAreTheyNowEpilogue', 'OlderThanTheyThink', 'TheyPlottedAPerfectlyGoodWaste', 'OlderThanTheyLook', 'SomethingOnlyTheyWouldSay', 'TheOnlyWayTheyWillLearn', 'DoUntoOthersBeforeTheyDoUntoUs', 'TheyKnewTheRisks', 'StrongAsTheyNeedToBe', 'WhatDoTheyFearEpisode', 'NotIfTheyEnjoyedItRationalization', 'TheyStillBelongToUsLecture', 'TheManTheyCouldntHang', 'TheyShouldHaveSentAPoet', 'JoinTheArmyTheySaid', 'TheyDontMakeThemLikeTheyUsedTo'}\n",
      "`ate` : {'AteHisGun', 'LevelAte', 'IAteWhat', 'ADogAteMyHomework', 'AteTheSpoon', 'IAteWHAT', 'HitlerAteSugar'}\n"
     ]
    },
    {
     "name": "stdout",
     "output_type": "stream",
     "text": [
      "`them` : {'BeatThemAtTheirOwnGame', 'MustLetThemGetAway', 'GottaCatchThemAll', 'CantLiveWithThemCantLiveWithoutThem', 'IWantThemAlive', 'AliensMadeThemDoIt', 'NotWithThemForTheMoney', 'MarryThemAll', 'OnlyTheAuthorCanSaveThemNow', 'BuyThemOff', 'DumpThemAll', 'LetThemDieHappy', 'OneMythToExplainThemAll', 'BlindWithoutThem', 'KickThemWhileTheyAreDown', 'MakeThemRot', 'MakeAnExampleOfThem', 'SockItToThem', 'GivingThemTheStrip', 'YouSaidYouWouldLetThemGo', 'UnhandThemVillain', 'AProtagonistShallLeadThem', 'AllOfThem', 'KnowWhenToFoldThem', 'OneJudgeToRuleThemAll', 'AChildShallLeadThem', 'FairestOfThemAll', 'ScrewTheRulesIMakeThem', 'BreakThemByTalking', 'KillThemAll', 'ISeeThemToo', 'JustToyingWithThem', 'SeizeThem', 'PutThemAllOutOfMyMisery', 'TheyDontMakeThemLikeTheyUsedTo', 'HowManyAllOfThem', 'GottaKillThemAll', 'ScrewTheRulesTheyBrokeThemFirst', 'ThrowTheBookAtThem'}\n",
      "`kill` : {'YouKillItYouBoughtIt', 'RailingKill', 'CradlingYourKill', 'ThereIsNoKillLikeOverkill', 'YouCanNotKillAnIdea', 'IdTellYouButThenIdHaveToKillYou', 'ThouShaltNotKill', 'WeComeInPeaceShootToKill', 'OneDrinkWillKillTheBaby', 'TotalPartyKill', 'KillThePoor', 'CrushKillDestroy', 'ConceiveAndKill', 'YouCannotKillAnIdea', 'KillEmAll', 'SetAMookToKillAMook', 'KillEnemiesToOpen', 'OnlyICanKillHim', 'KillMeNowOrForeverStayYourHand', 'HumansKillWantonly', 'IfYouKillHimYouWillBeJustLikeHim', 'EverythingIsTryingToKillYou', 'IllKillYou', 'ThereIsNoKillLikeOverKill', 'KillItWithWater', 'LifeWillKillYou', 'KillTheCutie', 'TakesOneToKillOne', 'YouCantKillWhatsAlreadyDead', 'KillItWithIce', 'KillAllHumans', 'GainingTheWillToKill', 'KillAndReplace', 'TheresNoKillLikeOverkill', 'OneHitKill', 'KillTheOnesYouLove', 'PleaseKillMeIfItSatisfiesYou', 'KillItThroughItsStomach', 'ThouShallNotKill', 'NoKillLikeOverkill', 'KillTheHostBody', 'RoadKill', 'ChildrenForcedToKill', 'KillSat', 'KillTheGod', 'MercyKill', 'IDidntMeanToKillHim', 'TheMasqueradeWillKillYourDatingLife', 'MutualKill', 'NoKillLikeOverKill', 'KillOnSight', 'FakeKillScare', 'KillItWithFire', 'KillThemAll', 'OneHitPolyKill', 'MercyKillArrangement', 'KillScreen', 'KillTheLights', 'CantKillYouStillNeedYou', 'KillSteal', 'ApeShallNeverKillApe', 'GottaKillEmAll', 'GottaKillThemAll', 'EverythingTryingToKillYou', 'KillHimAlready'}\n",
      "`mice` : {'NiceMice'}\n",
      "`humans` : {'TransplantedHumans', 'HumansAreInsects', 'HumansAreWhite', 'AdvancedAncientHumans', 'RaisedByHumans', 'HumansArePsychicInTheFuture', 'HumansByAnyOtherName', 'TestedOnHumans', 'HumansAreNotTheDominantSpecies', 'HumansKillWantonly', 'HumansAreSpecial', 'HumansAdvanceSwiftly', 'HumansThroughAlienEyes', 'HumansAreTheRealMonsters', 'FaeriesDontBelieveInHumansEither', 'KillAllHumans', 'HumansAreWarriors', 'InTheFutureHumansWillBeOneRace', 'HumansAreMorons', 'LionsAndTigersAndHumansOhMy', 'HumansAreSurvivors', 'HumansAreUgly', 'HumansAreBastards', 'HumansNeedAliens', 'HumansAreCthulhu', 'HumansAreSmelly', 'HumansAreSuperior', 'HumansAreGood', 'HumansAreDiplomats', 'HumansAreFlawed'}\n",
      "`creatures` : {'WoodlandCreatures', 'BondCreatures', 'DisneyCreaturesOfTheFarce'}\n",
      "`horse` : {'HorseJump', 'MyHorseIsAMotorbike', 'DarkHorseSibling', 'EnsembleDarkHorse', 'HellishHorse', 'MechanicalHorse', 'HorseBackHeroism', 'CoolHorse', 'CaligulasHorse', 'TrojanHorse', 'DarkHorseVictory', 'HorseOfADifferentColor', 'RearingHorse', 'DorkHorseCandidate'}\n",
      "`whale` : {'SpaceWhaleAesop', 'SpaceWhale'}\n",
      "`catching` : {'CatchingSomeZs'}\n",
      "`rat` : {'TheLabRat', 'TerrifyingPetStoreRat', 'SatisfiedStreetRat', 'YouDirtyRat', 'PetRat', 'TheRat'}\n",
      "`eggs` : {'BreadEggsMilkSquick', 'BreadEggsBreadedEggs', 'RawEggsMakeYouStronger', 'SmashedEggsHatching', 'IDoNotLikeGreenEggsAndHam', 'BreadMilkEggsSquick'}\n",
      "`bees` : {'KillerBees'}\n",
      "`eaten` : {'GettingEatenIsHarmless', 'EatenAlive'}\n",
      "`bait` : {'BaitAndSwitchLesbians', 'AwardBaitSong', 'TheJailBaitWait', 'OscarBait', 'ShmuckBait', 'BaitAndSwitchAccusation', 'BaitAndSwitchGunshot', 'StupidQuestionBait', 'JailBaitWait', 'TheBait', 'SchmuckBait', 'BaitAndSwitchComment', 'BaitAndSwitchSentiment', 'BaitAndSwitchTyrant', 'BaitAndSwitchComparison', 'BaitAndSwitch', 'BaitTheDog', 'JailBait', 'BaitAndSwitchCredits', 'FlameBait', 'BaitAndSwitchBoss'}\n",
      "`watch` : {'WatchThePaintJob', 'SoMyKidsCanWatch', 'WatchItStoned', 'PraisingShowsYouDontWatch', 'ForcedToWatch', 'YouWatchTooMuchX', 'GadgetWatch', 'KidsShouldntWatchHorrorFilms', 'WatchTheWorldDie', 'WhoWouldWantToWatchUs', 'WatchOutForThatTree'}\n",
      "`nest` : {'EmptyNest', 'CuckooNest'}\n",
      "`rabbit` : {'DownTheRabbitHole', 'RogerRabbitEffect', 'SillyRabbitCynicismIsForLosers', 'FollowTheWhiteRabbit', 'KillerRabbit', 'RascallyRabbit', 'SillyRabbitIdealismIsForKids', 'DuckSeasonRabbitSeason', 'CallASmeerpARabbit', 'UpTheRealRabbitHole', 'RighteousRabbit', 'CallARabbitASmeerp', 'PullARabbitOutOfMyHat', 'SillyRabbitRomanceIsForKids'}\n",
      "`babies` : {'DesignerBabies', 'GiganticAdultsTinyBabies', 'BabiesMakeEverythingBetter', 'TooManyBabies', 'EatsBabies', 'WaveOfBabies', 'BabiesEverAfter', 'SpinoffBabies', 'PoliticiansKissBabies'}\n",
      "`caged` : {'BirdCaged', 'CagedInsideAMonster'}\n",
      "`insect` : {'FourLeggedInsect', 'InsectQueen', 'InsectGenderBender'}\n",
      "`bites` : {'TheDogBitesBack', 'ManBitesMan', 'VampireBitesSuck'}\n",
      "`squirrel` : {'ScrewySquirrel'}\n",
      "`carry` : {'CarryABigStick', 'TribalCarry', 'NowLetMeCarryYou', 'BridalCarry', 'OverTheShoulderCarry', 'CrisisCatchAndCarry'}\n",
      "`breeding` : {'GeniusBreedingAct', 'SuperBreedingProgram', 'BreedingSlave'}\n",
      "`spiders` : {'GiantSpiders', 'SpidersAreScary'}\n",
      "`baby` : {'YetAnotherBabyPanda', 'MamasBabyPapasMaybe', 'PetBabyWildAnimal', 'BabyFactory', 'ChocolateBaby', 'DoorstopBaby', 'OneDrinkWillKillTheBaby', 'InvasionOfTheBabySnatchers', 'GiveTheBabyAFather', 'BabySeeBabyDo', 'TheBabyOfTheBunch', 'UltraSuperHappyCuteBabyFestFarmer3000', 'EvilDetectingBaby', 'LastMinuteBabyNaming', 'BabyDollBaby', 'BabyLanguage', 'DeadBabyComedy', 'BizarreBabyBoom', 'BabyTalk', 'BadassAndBaby', 'WhatIfTheBabyIsLikeMe', 'GettingTheBabyToSleep', 'BabyPlanet', 'BabyTrap', 'PromBaby', 'StrayingBaby', 'BrainyBaby', 'BabyCarriage', 'ABoyAGirlAndABabyFamily', 'TheBabyTrap', 'BabyBoomers', 'BurnBabyBurn', 'LetsHaveAnotherBaby'}\n",
      "`catch` : {'TakeAMomentToCatchYourDeath', 'CatchPhraseSpoutingDuo', 'ItWillNeverCatchOn', 'DesperateObjectCatch', 'GottaCatchThemAll', 'UntranslatedCatchPhrase', 'NooseCatch', 'CatchTheConscience', 'BulletCatch', 'OldMediaPlayingCatchUp', 'HeyCatch', 'EyeCatch', 'SubvertedCatchPhrase', 'SelfBotchedCatchPhrase', 'CantCatchUp', 'CrisisCatchAndCarry', 'TheCatchPhraseCatchesOn', 'SigningOffCatchPhrase', 'PunchCatch', 'CatchYourDeathOfCold', 'CatchPhrase', 'GottaCatchEmAll', 'ArrowCatch', 'MadLibsCatchPhrase', 'CatchAndReturn', 'BorrowedCatchPhrase', 'YouDontWantToCatchThis', 'CatchAFallingStar'}\n",
      "`adults` : {'GiganticAdultsTinyBabies', 'OnlyFatalToAdults', 'AdultsAreUseless', 'SeparatedFromTheAdults', 'MostWritersAreAdults', 'InvisibleToAdults', 'AdultsDressedAsChildren', 'ThereAreNoAdults', 'AdultsAreMoreAnthropomorphic', 'KidsVersusAdults'}\n",
      "`children` : {'PsychicChildren', 'ChildrenAreAWaste', 'ChildrenAreCruel', 'CreepyChildrenSinging', 'AdultsDressedAsChildren', 'ChildrenRaiseYou', 'ThinkOfTheChildren', 'ChildrenAreSpecial', 'ChildrenAreInnocent', 'ChildrenForcedToKill', 'AbridgedForChildren', 'NeverWorkWithChildrenOrAnimals', 'HideYourChildren', 'ParentsKnowTheirChildren', 'ChildrenInTow', 'FriendToAllChildren', 'LiesToChildren', 'TheCobblersChildrenHaveNoShoes', 'FreeRangeChildren'}\n",
      "`themselves` : {'PullingThemselvesTogether', 'LaughThemselvesSick'}\n",
      "`hunt` : {'ScavengerHunt', 'HiredToHuntYourself', 'PedoHunt', 'WitchHunt', 'SnipeHunt', 'ManlyMenCanHunt', 'PaedoHunt', 'TheGrandHunt', 'EvidenceScavengerHunt'}\n"
     ]
    },
    {
     "name": "stdout",
     "output_type": "stream",
     "text": [
      "`dying` : {'DyingMomentOfAwesome', 'DyingAlone', 'DyingClue', 'DyingToBeReplaced', 'DyingAsYourself', 'DyingDealUpgrade', 'DyingCurse', 'DyingCandle', 'DyingDream', 'YouSeeImDying', 'DyingTruce', 'DyingDeclarationOfHate', 'VillainsDyingGrace', 'DyingForSymbolism', 'LikeYouWereDying', 'SorryThatImDying', 'DyingMomentofAwesome', 'DyingTown', 'DyingMessage', 'DyingRace', 'WithMyDyingBreathISummonYou', 'IAmDyingPleaseTakeMyMacguffin', 'TheDyingWalk', 'MistakenForDying', 'ImDyingPleaseTakeMyMacGuffin', 'DyingDeclarationOfLove', 'DyingSpeech', 'SecretlyDying'}\n",
      "`frogs` : {'FreeTheFrogs'}\n",
      "`alligator` : {'ApothecaryAlligator', 'BigLippedAlligatorMoment'}\n",
      "`monkey` : {'GreaseMonkey', 'CuriousAsAMonkey', 'IronButtMonkey', 'MonkeyMoralityPose', 'KillerSpaceMonkey', 'PowersuitMonkey', 'CymbalBangingMonkey', 'WeNamedTheMonkeyJack', 'ButtMonkey'}\n",
      "`flies` : {'WingedSoulFliesOffAtDeath', 'CharactersDroppingLikeFlies', 'FliesEqualsEvil', 'IfItSwimsItFlies'}\n",
      "`mad` : {'ReluctantMadScientist', 'MadLibThrillerTitle', 'MadArtist', 'MadScientist', 'MadOracle', 'MadScientistLaboratory', 'MadWomanInTheAttic', 'MadDoctor', 'MadLove', 'MadScience', 'GoMadFromTheIsolation', 'MadBomber', 'GoMadFromTheRevelation', 'TheyCalledMeMad', 'MadScientistsBeautifulDaughter', 'LaughingMad', 'MadLibFantasyTitle', 'MadMathematician', 'GoAmongMadPeople', 'MadLibsCatchphrase', 'MadLibsCatchPhrase', 'MadDictatorsHandsomeSon', 'MadLibsDialogue', 'PoliticalCorrectnessGoneMad', 'WorldGoneMad', 'MadEye', 'MadGod'}\n",
      "`foxes` : {'FantasticFoxes'}\n",
      "`found` : {'IFoundYouLikeThis', 'FoundFootage', 'FinallyFoundTheBody', 'FoundTheKillerLostTheMurderer', 'FoundFootageFilms', 'NeverFoundTheBody'}\n",
      "`smoke` : {'SmokeBomb', 'BlowingSmokeRings', 'SmokeShield', 'SecondFaceSmoke', 'OneLastSmoke', 'SmokeAndFireFactory', 'SmokeOut', 'OfCourseISmoke', 'SuperSmoke'}\n",
      "`snake` : {'SnakeCharmer', 'SmugSnake', 'AllNaturalSnakeOil', 'SnakePit', 'SnakeTalk', 'SnakeOilSalesman', 'SnakePeople'}\n",
      "`boats` : {'SinkTheLifeBoats'}\n",
      "`bugs` : {'GoodBadBugs', 'FriendToBugs'}\n",
      "`hungry` : {'ImNotHungry', 'HungryJungle', 'LoveHungry', 'TooHungryToBePolite'}\n",
      "`adult` : {'AllAdultAnimationIsSouthPark', 'FunHatingConfiscatingAdult', 'AdultFear', 'BornAsAnAdult', 'AdultChild'}\n",
      "`teenagers` : {'RecruitTeenagersWithAttitude'}\n",
      "`hide` : {'HideAndNoSeek', 'HideTheEvidence', 'HideYourChildren', 'YouCanRunButYouCantHide', 'GenuineHumanHide', 'HideYourOtherness', 'HideYourGays', 'HideYourPregnancy', 'HideYourLesbians'}\n",
      "`butterflies` : {'PrettyButterflies'}\n",
      "`poison` : {'PoisonIsEvil', 'PoisonMushroom', 'PoisonIsCorrosive', 'PoisonRing', 'PoisonAndCureGambit', 'FingerLickingPoison', 'PerfectPoison', 'INeverSaidItWasPoison', 'UniversalPoison', 'SuckOutThePoison', 'AcquiredPoisonImmunity'}\n",
      "`puppy` : {'PuppyLove', 'PitbullDatesPuppy', 'PreciousPuppy', 'PuppyEyes', 'PuppyDogEyes'}\n",
      "\n",
      "enhancing search with : ['HypnosisProofDogs', 'DogsAreDumb', 'SledDogsThroughTheSnow', 'DogsHateSquirrels', 'AllAnimalsAreDogs', 'AllDogsArePurebred', 'YankTheDogsChain', 'HeroesLoveDogs', 'ACatInAGangOfDogs', 'CatsAreMagic', 'CatsAreMean', 'CatsHaveNineLives', 'AllWitchesHaveCats', 'CatsHateWater', 'CatsAreSnarkers', 'CatsAreSuperior', 'TheInternetIsForCats', 'PetTheDog', 'DogFoodDiet', 'RightHandAttackDog', 'BewareOfViciousDog', 'CatDogDichotomy', 'DogDiesAtTheEnd', 'HeroicDog', 'PostApocalypticDog', 'BigFriendlyDog', 'EatTheDog', 'PuppyDogEyes', 'PhotoOpWithTheDog', 'ADogNamedDog', 'KickTheDog', 'ADogAteMyHomework', 'MistakenForDog', 'MicrowaveTheDog', 'BadgesAndDogTags', 'LickedByTheDog', 'KicktheDog', 'INeedToGoIronMyDog', 'ShaggyDogStory', 'ShooTheDog', 'OldSchoolDogFight', 'IHaveToGoIronMyDog', 'ThrowTheDogABone', 'TheDogShotFirst', 'EvenTheDogIsAshamed', 'DogPileofDoom', 'RobotDog', 'ShootTheShaggyDog', 'ScareTheDog', 'DogStereotype', 'OldDog', 'DogWalksYou', 'AdoptTheDog', 'MailmanVsDog', 'DisneyDogFight', 'AngryGuardDog', 'TheDogIsAnAlien', 'MakeTheDogTestify', 'BaitTheDog', 'TheDogWasTheMastermind', 'ShootTheDog', 'EvilDetectingDog', 'DogLatin', 'TheDogBitesBack', 'AndYourLittleDogToo', 'DogPileOfDoom', 'ShootTheShaggyDogStory', 'HairOfTheDog', 'AnimalsLackAttributes', 'AnimalsHateHim', 'WorldOfFunnyAnimals', 'CruellaToAnimals', 'NeverWorkWithChildrenOrAnimals', 'AnimalsHateHer', 'AllAnimalsAreDomesticated', 'AllDrummersAreAnimals', 'AllAnimalsAreDogs', 'GoodAnimalsEvilAnimals', 'AnimalsNotToScale', 'MarriedAnimals', 'AnimalsSeeInMonochrome', 'AlienAnimals', 'BadPeopleAbuseAnimals', 'CraftedFromAnimals', 'NoAnimalsWereHarmed', 'GirlsLoveStuffedAnimals', 'EvenTheRatsWontTouchIt', 'SwarmOfRats', 'CatDogDichotomy', 'CatScare', 'CatNinja', 'KindheartedCatLover', 'CatStereotype', 'ApathyKilledTheCat', 'TheCatCameBack', 'ConvenientDecoyCat', 'CheshireCatGrin', 'ClassyCatBurglar', 'ACatInAGangOfDogs', 'RightHandCat', 'CatSmile']\n",
      "\n"
     ]
    },
    {
     "name": "stdout",
     "output_type": "stream",
     "text": [
      "tropes used for final query : ['HypnosisProofDogs', 'DogsAreDumb', 'SledDogsThroughTheSnow', 'DogsHateSquirrels', 'AllAnimalsAreDogs', 'AllDogsArePurebred', 'YankTheDogsChain', 'HeroesLoveDogs', 'ACatInAGangOfDogs', 'CatsAreMagic', 'CatsAreMean', 'CatsHaveNineLives', 'AllWitchesHaveCats', 'CatsHateWater', 'CatsAreSnarkers', 'CatsAreSuperior', 'TheInternetIsForCats', 'PetTheDog', 'DogFoodDiet', 'RightHandAttackDog', 'BewareOfViciousDog', 'CatDogDichotomy', 'DogDiesAtTheEnd', 'HeroicDog', 'PostApocalypticDog', 'BigFriendlyDog', 'EatTheDog', 'PuppyDogEyes', 'PhotoOpWithTheDog', 'ADogNamedDog', 'KickTheDog', 'ADogAteMyHomework', 'MistakenForDog', 'MicrowaveTheDog', 'BadgesAndDogTags', 'LickedByTheDog', 'KicktheDog', 'INeedToGoIronMyDog', 'ShaggyDogStory', 'ShooTheDog', 'OldSchoolDogFight', 'IHaveToGoIronMyDog', 'ThrowTheDogABone', 'TheDogShotFirst', 'EvenTheDogIsAshamed', 'DogPileofDoom', 'RobotDog', 'ShootTheShaggyDog', 'ScareTheDog', 'DogStereotype', 'OldDog', 'DogWalksYou', 'AdoptTheDog', 'MailmanVsDog', 'DisneyDogFight', 'AngryGuardDog', 'TheDogIsAnAlien', 'MakeTheDogTestify', 'BaitTheDog', 'TheDogWasTheMastermind', 'ShootTheDog', 'EvilDetectingDog', 'DogLatin', 'TheDogBitesBack', 'AndYourLittleDogToo', 'DogPileOfDoom', 'ShootTheShaggyDogStory', 'HairOfTheDog', 'AnimalsLackAttributes', 'AnimalsHateHim', 'WorldOfFunnyAnimals', 'CruellaToAnimals', 'NeverWorkWithChildrenOrAnimals', 'AnimalsHateHer', 'AllAnimalsAreDomesticated', 'AllDrummersAreAnimals', 'AllAnimalsAreDogs', 'GoodAnimalsEvilAnimals', 'AnimalsNotToScale', 'MarriedAnimals', 'AnimalsSeeInMonochrome', 'AlienAnimals', 'BadPeopleAbuseAnimals', 'CraftedFromAnimals', 'NoAnimalsWereHarmed', 'GirlsLoveStuffedAnimals', 'EvenTheRatsWontTouchIt', 'SwarmOfRats', 'CatDogDichotomy', 'CatScare', 'CatNinja', 'KindheartedCatLover', 'CatStereotype', 'ApathyKilledTheCat', 'TheCatCameBack', 'ConvenientDecoyCat', 'CheshireCatGrin', 'ClassyCatBurglar', 'ACatInAGangOfDogs', 'RightHandCat', 'CatSmile', 'DoesThisRemindYouOfAnything', 'ForebodingFleeingFlock', 'ParentalBonus', 'MaliciousSlander', 'ForgottenPhlebotinum', 'WordOfGod', 'BecomingTheBoast', 'StealingTheCredit', 'EpicFail', 'CoolAndUnusualPunishment', 'EarlyBirdCameo', 'OurBugbearsAreScarier', 'Diary', 'RansackedRoom', 'BlankBook', 'FlyingCar', 'ContrivedCoincidence', 'Narm', 'ButtDialingMordor', 'HearingVoices', 'WhatMeasureIsANonHuman', 'EnslavedTongue', 'NotMeThisTime', 'INeverSaidItWasPoison', 'SpiderSwarm', 'Narcissist', 'RedHerring', 'BeastInTheMaze', 'DudeNotFunny', 'BigBrotherInstinct', 'ComicallyIneptHealing', 'HandOfGlory', 'IThoughtEveryoneCouldDoThat', 'BreakTheHaughty', 'BalefulPolymorph', 'ObliviousGuiltSlinging', 'MrFanservice', 'AllForNothing', 'HijackedByGanon', 'OhCrap', 'ThoroughlyMistakenIdentity', 'TheAllegedExpert', 'MonsterOfTheWeek', 'MilkyWhiteEyes', 'StarstruckSpeechless', 'StrongerWithAge', 'LaserGuidedKarma', 'WritersCannotDoMath', 'MindRape', 'LittleNo', 'DisproportionateRetribution', 'BuffySpeak', 'SneezeOfDoom', 'ThisIsGonnaSuck', 'BatScare', 'InvisibleWriting', 'InnocuouslyImportantEpisode', 'LovePotion', 'VillainWithGoodPublicity', 'MuggleBornOfMages', 'WreckedWeapon', 'CallingOutForNotCalling', 'ThirdPersonPerson', 'TheReasonYouSuckSpeech', 'WhoWouldBeStupidEnough', 'ChekhovsGunman', 'LetMeAtHim', 'MagicMisfire', 'CaughtWithYourPantsDown', 'OrificeEvacuation', 'TheDandy', 'DeadlyBook', 'HilarityEnsues', 'SentientVehicle', 'HorrorDoesntSettleForSimpleTuesday', 'TrickedIntoSigning', 'EverybodyLives', 'HoistByHisOwnPetard', 'SignificantAnagram', 'NoodleIncident', 'RuleOfThree', 'ObfuscatingStupidity', 'JerkassHasAPoint', 'IJustWantToBeFree', 'SoulJar', 'AbsurdlySpaciousSewer', 'RewatchBonus', 'WroteTheBook', 'TomTheDarkLord', 'ShrineToSelf', 'AntiVillain', 'IHaveJustOneThingToSay', 'Irony', 'DeaderThanDead', 'DragonInChief', 'WellIntentionedExtremist', 'AbusiveParents', 'EatingOptional', 'SeriesContinuityError', 'AnAesop', 'WondrousLadiesRoom', 'AlternateIdentityAmnesia', 'XanatosGambit', 'CameraFiend', 'TheDragon', 'BlastingItOutOfTheirHands', 'ReptilesAreAbhorrent', 'WeaksauceWeakness', 'BackwardsFiringGun', 'MindControl', 'CoveringForTheNoise', 'DisappointedInYou', 'Lampshaded', 'PredecessorVillain', 'ArcVillain', 'ItIsDehumanizing', 'WhamLine', 'DarkerAndEdgier', 'NiceJobFixingItVillain', 'AdultFear', 'ArtisticLicenseBiology', 'DisneyDeath', 'KidsDrivingCars', 'EurekaMoment', 'HammyHerald', 'CerebusSyndrome', 'GreaterScopeVillain', 'SpinningOutOfHere', 'EyeScream', 'DoWrongRight', 'PostMortemComeback', 'YouAreBetterThanYouThinkYouAre', 'PensieveFlashback', 'ClownCar', 'WontTakeYesForAnAnswer', 'JokeAndReceive', 'RightBehindMe', 'BeCarefulWhatYouWishFor', 'UnwantedAssistance', 'BrickJoke', 'BasiliskAndCockatrice', 'Foreshadowing', 'LoopholeAbuse', 'DirtyCoward', 'DidntThinkThisThrough', 'FailedASpotCheck', 'BathroomStallOfOverheardInsults', 'BigBad', 'CoverIdentityAnomaly', 'MissedTheBus', 'SavedByTheAwesome', 'INeverGotAnyLetters', 'HoldingItForAFriend', 'FacePalm', 'ShoutOut', 'HeelFaceTurn', 'MotiveMisidentification', 'SmallNameBigEgo', 'RightForTheWrongReasons', 'KnowNothingKnowItAll', 'GiantSpider', 'WatchOutForThatTree', 'AlliterativeTitle', 'GettingCrapPastTheRadar', 'PoliticallyIncorrectVillain', 'BodyHorror', 'AreYouSureYouCanDriveThisThing', 'INeedToGoIronMyDog', 'RealityEnsues', 'DeadAnimalWarning', 'PunnyName', 'NoConservationOfEnergy', 'ShrinkingViolet', 'DeadGuyJunior', 'InformedAbility', 'LeeroyJenkins', 'FeetOfClay', 'DangerousDeviceDisposalDebacle', 'GambitRoulette', 'TemptingFate', 'MailerDaemon', 'PortalSlam', 'ItsLikeIAlwaysSay', 'WhyDidItHaveToBeSnakes', 'HarmfulHealing', 'HeadlockOfDominance', 'StalkerWithACrush', 'SealedEvilInACan', 'ForgottenBirthday', 'ActuallyPrettyFunny', 'SwordCane', 'IneptMage', 'SerpentOfImmortality', 'EarlyInstallmentWeirdness', 'EasilyCondemned', 'LivingMemory', 'AscendedExtra', 'FollowTheWhiteRabbit', 'DinnerWithTheBoss', 'ChekhovsGun', 'InvoluntaryGroupSplit', 'ParodyMagicSpell', 'HotForTeacher']\n"
     ]
    }
   ],
   "source": [
    "# example query \n",
    "scores = full_search('Harry Potter and the Chamber of Secrets', 'dogs', 'book to movie')"
   ]
  },
  {
   "cell_type": "code",
   "execution_count": 76,
   "metadata": {},
   "outputs": [
    {
     "name": "stdout",
     "output_type": "stream",
     "text": [
      "\n",
      "top 10 most similar titles to `Harry Potter and the Chamber of Secrets` by trope to keyword `dogs` \n",
      "(0.10132777456717702, 'Homeward Bound: The Incredible Journey')\n",
      "(0.10051968461980247, 'Cats and Dogs')\n",
      "(0.08335459540398535, 'The Secret Life of Pets')\n",
      "(0.0710858068850421, 'Monsters, Inc.')\n",
      "(0.06768822375750554, 'Okja')\n",
      "(0.06765832591624081, 'The Aristocats')\n",
      "(0.0653700663892429, 'Arachnophobia')\n",
      "(0.06426243544283632, 'Beethoven')\n",
      "(0.059512484121812266, 'Harry Potter and the Chamber of Secrets')\n",
      "(0.058462709392773045, 'Puss in Boots')\n"
     ]
    }
   ],
   "source": [
    "# example to print nice list of ranked results \n",
    "print_results('Harry Potter and the Chamber of Secrets', 'dogs', scores, movies, 10)"
   ]
  },
  {
   "cell_type": "code",
   "execution_count": 38,
   "metadata": {},
   "outputs": [
    {
     "data": {
      "text/plain": [
       "4797"
      ]
     },
     "execution_count": 38,
     "metadata": {},
     "output_type": "execute_result"
    }
   ],
   "source": [
    "len(scores)"
   ]
  },
  {
   "cell_type": "code",
   "execution_count": null,
   "metadata": {},
   "outputs": [],
   "source": []
  }
 ],
 "metadata": {
  "kernelspec": {
   "display_name": "Python 3",
   "language": "python",
   "name": "python3"
  },
  "language_info": {
   "codemirror_mode": {
    "name": "ipython",
    "version": 3
   },
   "file_extension": ".py",
   "mimetype": "text/x-python",
   "name": "python",
   "nbconvert_exporter": "python",
   "pygments_lexer": "ipython3",
   "version": "3.7.3"
  }
 },
 "nbformat": 4,
 "nbformat_minor": 2
}
